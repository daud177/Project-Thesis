{
 "cells": [
  {
   "cell_type": "code",
   "execution_count": 1,
   "metadata": {},
   "outputs": [],
   "source": [
    "import torch"
   ]
  },
  {
   "cell_type": "code",
   "execution_count": 3,
   "metadata": {},
   "outputs": [],
   "source": [
    "replay_memory_1 = torch.load(\"/home/faps/CEILing/CEILing256_v2/data/dat_bowen/demos_100_1.dat\")\n",
    "replay_memory_2 = torch.load(\"/home/faps/CEILing/CEILing256_v2/data/stators_100/demos_100.dat\")"
   ]
  },
  {
   "cell_type": "code",
   "execution_count": 4,
   "metadata": {},
   "outputs": [
    {
     "name": "stdout",
     "output_type": "stream",
     "text": [
      "length of demos 200\n"
     ]
    }
   ],
   "source": [
    "demos_100 = replay_memory_1\n",
    "\n",
    "for i in range(len(replay_memory_2)):\n",
    "    camera_obs, proprio_obs, action, feedback=replay_memory_2[i]\n",
    "    demos_100.camera_obs.append(camera_obs)\n",
    "    demos_100.proprio_obs.append(proprio_obs)\n",
    "    demos_100.action.append(action)\n",
    "    demos_100.feedback.append(feedback)\n",
    "\n",
    "print(f'length of demos {len(demos_100)}')\n",
    "\n",
    "torch.save(demos_100, \"demos_200.dat\")"
   ]
  }
 ],
 "metadata": {
  "kernelspec": {
   "display_name": "ceiling_env",
   "language": "python",
   "name": "python3"
  },
  "language_info": {
   "codemirror_mode": {
    "name": "ipython",
    "version": 3
   },
   "file_extension": ".py",
   "mimetype": "text/x-python",
   "name": "python",
   "nbconvert_exporter": "python",
   "pygments_lexer": "ipython3",
   "version": "3.8.8"
  }
 },
 "nbformat": 4,
 "nbformat_minor": 2
}
