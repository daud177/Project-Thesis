{
 "cells": [
  {
   "cell_type": "code",
   "execution_count": 42,
   "metadata": {},
   "outputs": [],
   "source": [
    "import torch"
   ]
  },
  {
   "cell_type": "code",
   "execution_count": 43,
   "metadata": {},
   "outputs": [],
   "source": [
    "file_path = \"/home/faps/CEILing/CEILing256_v2/data/Bowen_ViT/demos_10.dat\""
   ]
  },
  {
   "cell_type": "code",
   "execution_count": 44,
   "metadata": {},
   "outputs": [],
   "source": [
    "replay_memory = torch.load(file_path)"
   ]
  },
  {
   "cell_type": "code",
   "execution_count": 46,
   "metadata": {},
   "outputs": [
    {
     "name": "stdout",
     "output_type": "stream",
     "text": [
      "3\n",
      "8\n",
      "7\n",
      "1\n",
      "3\n",
      "8\n",
      "7\n",
      "1\n",
      "3\n",
      "8\n",
      "7\n",
      "1\n",
      "3\n",
      "8\n",
      "7\n",
      "1\n",
      "3\n",
      "8\n",
      "7\n",
      "1\n",
      "3\n",
      "8\n",
      "7\n",
      "1\n",
      "3\n",
      "8\n",
      "7\n",
      "1\n",
      "3\n",
      "8\n",
      "7\n",
      "1\n",
      "3\n",
      "8\n",
      "7\n",
      "1\n",
      "3\n",
      "8\n",
      "7\n",
      "1\n"
     ]
    }
   ],
   "source": [
    "for item in replay_memory:\n",
    "    for j in item:\n",
    "        print(len(j[0]))"
   ]
  }
 ],
 "metadata": {
  "kernelspec": {
   "display_name": "ceiling_env",
   "language": "python",
   "name": "python3"
  },
  "language_info": {
   "codemirror_mode": {
    "name": "ipython",
    "version": 3
   },
   "file_extension": ".py",
   "mimetype": "text/x-python",
   "name": "python",
   "nbconvert_exporter": "python",
   "pygments_lexer": "ipython3",
   "version": "3.8.8"
  }
 },
 "nbformat": 4,
 "nbformat_minor": 2
}
