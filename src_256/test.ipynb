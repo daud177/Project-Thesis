{
 "cells": [
  {
   "cell_type": "code",
   "execution_count": 2,
   "metadata": {},
   "outputs": [
    {
     "name": "stdout",
     "output_type": "stream",
     "text": [
      "cuda:0\n"
     ]
    }
   ],
   "source": [
    "import torch\n",
    "from utils import TrajectoriesDataset  # noqa: F401\n",
    "from utils import device, set_seeds\n",
    "\n",
    "\n",
    "from models import Policy\n",
    "\n",
    "\n",
    "import wandb\n",
    "import torch\n",
    "from models import Policy\n",
    "from utils import TrajectoriesDataset  # noqa: F401\n",
    "from utils import device, set_seeds\n",
    "from argparse import ArgumentParser"
   ]
  },
  {
   "cell_type": "code",
   "execution_count": 3,
   "metadata": {},
   "outputs": [],
   "source": [
    "config = {\n",
    "        \"feedback_type\": 'ceiling_full',\n",
    "        \"task\": 'old_files/stator_ceiling_256',\n",
    "        \"proprio_dim\": 8,\n",
    "        \"action_dim\": 7,\n",
    "        \"visual_embedding_dim\": 256,\n",
    "        \"learning_rate\": 3e-4,\n",
    "        \"weight_decay\": 3e-6,\n",
    "        \"batch_size\": 8,#16\n",
    "    }"
   ]
  },
  {
   "cell_type": "code",
   "execution_count": 4,
   "metadata": {},
   "outputs": [
    {
     "name": "stdout",
     "output_type": "stream",
     "text": [
      "561790\n"
     ]
    }
   ],
   "source": [
    "policy = Policy(config).to(device)\n",
    "    \n",
    "pytorch_total_params = sum(p.numel() for p in policy.parameters() if p.requires_grad)\n",
    "\n",
    "print(pytorch_total_params)"
   ]
  },
  {
   "cell_type": "code",
   "execution_count": 5,
   "metadata": {},
   "outputs": [],
   "source": [
    "# for name,para in policy.named_parameters():\n",
    "#     print('-'*20)\n",
    "#     print(f'name: {name}')\n",
    "#     print('values: ')\n",
    "#     print(para)\n"
   ]
  },
  {
   "cell_type": "code",
   "execution_count": 6,
   "metadata": {},
   "outputs": [],
   "source": [
    "from prettytable import PrettyTable\n",
    "\n",
    "def count_parameters(model):\n",
    "    table = PrettyTable([\"Modules\", \"Parameters\"])\n",
    "    total_params = 0\n",
    "    for name, parameter in model.named_parameters():\n",
    "        if not parameter.requires_grad:\n",
    "            continue\n",
    "        params = parameter.numel()\n",
    "        table.add_row([name, params])\n",
    "        total_params += params\n",
    "    print(table)\n",
    "    print(f\"Total Trainable Params: {total_params}\")\n",
    "    return total_params"
   ]
  },
  {
   "cell_type": "code",
   "execution_count": 7,
   "metadata": {},
   "outputs": [
    {
     "name": "stdout",
     "output_type": "stream",
     "text": [
      "+-------------------+------------+\n",
      "|      Modules      | Parameters |\n",
      "+-------------------+------------+\n",
      "|    conv1.weight   |    150     |\n",
      "|     conv1.bias    |     2      |\n",
      "|    conv2.weight   |     50     |\n",
      "|     conv2.bias    |     1      |\n",
      "|    conv3.weight   |     25     |\n",
      "|     conv3.bias    |     1      |\n",
      "|    conv4.weight   |     25     |\n",
      "|     conv4.bias    |     1      |\n",
      "| lstm.weight_ih_l0 |   278784   |\n",
      "| lstm.weight_hh_l0 |   278784   |\n",
      "|  lstm.bias_ih_l0  |    1056    |\n",
      "|  lstm.bias_hh_l0  |    1056    |\n",
      "| linear_out.weight |    1848    |\n",
      "|  linear_out.bias  |     7      |\n",
      "+-------------------+------------+\n",
      "Total Trainable Params: 561790\n"
     ]
    },
    {
     "data": {
      "text/plain": [
       "561790"
      ]
     },
     "execution_count": 7,
     "metadata": {},
     "output_type": "execute_result"
    }
   ],
   "source": [
    "count_parameters(policy)"
   ]
  },
  {
   "cell_type": "code",
   "execution_count": null,
   "metadata": {},
   "outputs": [],
   "source": []
  }
 ],
 "metadata": {
  "kernelspec": {
   "display_name": "ceiling_env",
   "language": "python",
   "name": "python3"
  },
  "language_info": {
   "codemirror_mode": {
    "name": "ipython",
    "version": 3
   },
   "file_extension": ".py",
   "mimetype": "text/x-python",
   "name": "python",
   "nbconvert_exporter": "python",
   "pygments_lexer": "ipython3",
   "version": "3.8.8"
  }
 },
 "nbformat": 4,
 "nbformat_minor": 2
}
